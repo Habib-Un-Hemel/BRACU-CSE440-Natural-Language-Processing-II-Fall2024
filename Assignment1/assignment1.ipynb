{
  "nbformat": 4,
  "nbformat_minor": 0,
  "metadata": {
    "colab": {
      "provenance": []
    },
    "kernelspec": {
      "name": "python3",
      "display_name": "Python 3"
    },
    "language_info": {
      "name": "python"
    }
  },
  "cells": [
    {
      "cell_type": "code",
      "execution_count": null,
      "metadata": {
        "id": "JSEgvNFi9u90"
      },
      "outputs": [],
      "source": [
        "import numpy as np\n",
        "import nltk\n",
        "import matplotlib.pyplot as plt\n",
        "import pandas as pd\n",
        "\n",
        "from sklearn.linear_model import LogisticRegression as LGR\n",
        "from sklearn.naive_bayes import MultinomialNB\n",
        "from sklearn.model_selection import train_test_split\n",
        "from sklearn.metrics import accuracy_score, precision_recall_fscore_support\n",
        "from sklearn.metrics import confusion_matrix , classification_report\n",
        "from sklearn.feature_extraction.text import CountVectorizer\n",
        "from sklearn.feature_extraction.text import TfidfVectorizer"
      ]
    },
    {
      "cell_type": "markdown",
      "source": [
        "#question1"
      ],
      "metadata": {
        "id": "9JlPv_oqXGoB"
      }
    },
    {
      "cell_type": "code",
      "source": [
        "# the csv file has uploaded in my google Drive\n",
        "imdb_data = 'https://drive.google.com/file/d/1PBHHY7ONen99StSn43SwfIJDx0Bt_LMD/view?usp=sharing'\n",
        "id_of_imdb_data = imdb_data.split(\"/\")[-2]\n",
        "\n",
        "path_imdb_data = f'https://drive.google.com/uc?id={id_of_imdb_data}'\n",
        "df = pd.read_csv(path_imdb_data)"
      ],
      "metadata": {
        "id": "CA28X9e3NPER"
      },
      "execution_count": null,
      "outputs": []
    },
    {
      "cell_type": "code",
      "source": [
        "print(df.head())\n",
        "print(df.tail())"
      ],
      "metadata": {
        "colab": {
          "base_uri": "https://localhost:8080/"
        },
        "id": "faeVMK3_NoyX",
        "outputId": "64f3e694-9716-4f17-e24f-8f6fad5b2023"
      },
      "execution_count": null,
      "outputs": [
        {
          "output_type": "stream",
          "name": "stdout",
          "text": [
            "                                              review sentiment\n",
            "0  One of the other reviewers has mentioned that ...  positive\n",
            "1  A wonderful little production. <br /><br />The...  positive\n",
            "2  I thought this was a wonderful way to spend ti...  positive\n",
            "3  Basically there's a family where a little boy ...  negative\n",
            "4  Petter Mattei's \"Love in the Time of Money\" is...  positive\n",
            "                                                  review sentiment\n",
            "49995  I thought this movie did a down right good job...  positive\n",
            "49996  Bad plot, bad dialogue, bad acting, idiotic di...  negative\n",
            "49997  I am a Catholic taught in parochial elementary...  negative\n",
            "49998  I'm going to have to disagree with the previou...  negative\n",
            "49999  No one expects the Star Trek movies to be high...  negative\n"
          ]
        }
      ]
    },
    {
      "cell_type": "code",
      "source": [
        "vectorizing = CountVectorizer(stop_words='english')\n",
        "X = vectorizing.fit_transform(df['review'])\n",
        "y = df['sentiment'].apply(lambda x: 1 if x == 'positive' else 0)"
      ],
      "metadata": {
        "id": "ohWjUfEqNsLz"
      },
      "execution_count": null,
      "outputs": []
    },
    {
      "cell_type": "code",
      "source": [
        "#Used an 80-20 split for my data, that is,80% of the data will be for training and 20% of the data will be for testing\n",
        "\n",
        "X_train, X_test, y_train, y_test =train_test_split(X, y, test_size=0.2, random_state=42)"
      ],
      "metadata": {
        "id": "m4NhdZorNvXe"
      },
      "execution_count": null,
      "outputs": []
    },
    {
      "cell_type": "code",
      "source": [
        "#Logistic Regression\n",
        "\n",
        "lr = LGR()\n",
        "lr.fit(X_train, y_train)\n",
        "lr_prediction = lr.predict(X_test)"
      ],
      "metadata": {
        "id": "_aucIcbONwyX"
      },
      "execution_count": null,
      "outputs": []
    },
    {
      "cell_type": "code",
      "source": [
        "logistic_Regression_accuracy = accuracy_score(y_test, lr_prediction)\n",
        "print(f\"Logistic Regression Classification Report:\\n\")\n",
        "print(classification_report(y_test, lr_prediction))\n",
        "print(\"################################################\")\n",
        "print()\n",
        "print(f\"Accuracy of logistic Regression : {logistic_Regression_accuracy}\")\n"
      ],
      "metadata": {
        "colab": {
          "base_uri": "https://localhost:8080/"
        },
        "id": "J3JevnZ1Nx-I",
        "outputId": "740e17f5-8a60-4564-8b1a-8e3328889287"
      },
      "execution_count": null,
      "outputs": [
        {
          "output_type": "stream",
          "name": "stdout",
          "text": [
            "Logistic Regression Classification Report:\n",
            "\n",
            "              precision    recall  f1-score   support\n",
            "\n",
            "           0       0.89      0.88      0.88      4961\n",
            "           1       0.88      0.89      0.89      5039\n",
            "\n",
            "    accuracy                           0.88     10000\n",
            "   macro avg       0.88      0.88      0.88     10000\n",
            "weighted avg       0.88      0.88      0.88     10000\n",
            "\n",
            "################################################\n",
            "\n",
            "Accuracy of logistic Regression : 0.8841\n"
          ]
        }
      ]
    },
    {
      "cell_type": "code",
      "source": [
        "# Naive Bayes started from here"
      ],
      "metadata": {
        "id": "_A-8x_KkOYl_"
      },
      "execution_count": null,
      "outputs": []
    },
    {
      "cell_type": "code",
      "source": [
        "#nb = Naive Bayes\n",
        "\n",
        "nb = MultinomialNB()\n",
        "nb.fit(X_train, y_train)\n",
        "nb_prediction = nb.predict(X_test)"
      ],
      "metadata": {
        "id": "uncATiOkOUqc"
      },
      "execution_count": null,
      "outputs": []
    },
    {
      "cell_type": "code",
      "source": [
        "Naive_Bayes_Accuracy = accuracy_score(y_test, nb_prediction)"
      ],
      "metadata": {
        "id": "lZ3BG57LOcT_"
      },
      "execution_count": null,
      "outputs": []
    },
    {
      "cell_type": "code",
      "source": [
        "print(\"\\nNaive Bayes Classification Report:\")\n",
        "print(classification_report(y_test, nb_prediction))\n",
        "print(\"################################################\")\n",
        "print()\n",
        "print(f\"Accuracy of Naive Bayes Model: {Naive_Bayes_Accuracy}\")"
      ],
      "metadata": {
        "colab": {
          "base_uri": "https://localhost:8080/"
        },
        "id": "dKuwp_ffOgvZ",
        "outputId": "0f8eb7c6-1ba8-48e1-db06-afeb4932b77c"
      },
      "execution_count": null,
      "outputs": [
        {
          "output_type": "stream",
          "name": "stdout",
          "text": [
            "\n",
            "Naive Bayes Classification Report:\n",
            "              precision    recall  f1-score   support\n",
            "\n",
            "           0       0.84      0.88      0.86      4961\n",
            "           1       0.87      0.84      0.85      5039\n",
            "\n",
            "    accuracy                           0.86     10000\n",
            "   macro avg       0.86      0.86      0.86     10000\n",
            "weighted avg       0.86      0.86      0.86     10000\n",
            "\n",
            "################################################\n",
            "\n",
            "Accuracy of Naive Bayes Model: 0.8566\n"
          ]
        }
      ]
    },
    {
      "cell_type": "code",
      "source": [],
      "metadata": {
        "id": "nqo4FxnrOrGW"
      },
      "execution_count": null,
      "outputs": []
    },
    {
      "cell_type": "code",
      "source": [
        "models = ['Logistic Regression', 'Naive Bayes']\n",
        "accuracies = [logistic_Regression_accuracy, Naive_Bayes_Accuracy]\n",
        "\n",
        "plt.bar(models, accuracies, color=['red', 'green'])\n",
        "plt.xlabel('Machine Learning two Models')\n",
        "plt.ylabel('Accuracy of the model')\n",
        "plt.title('Comparison of the Model in based  Bag of Words')\n",
        "plt.ylim(0.6, 1.0)\n",
        "plt.show()"
      ],
      "metadata": {
        "colab": {
          "base_uri": "https://localhost:8080/",
          "height": 472
        },
        "id": "TSf9GWIFOsul",
        "outputId": "ee8764b4-9626-4b65-844e-e82535c3eb78"
      },
      "execution_count": null,
      "outputs": [
        {
          "output_type": "display_data",
          "data": {
            "text/plain": [
              "<Figure size 640x480 with 1 Axes>"
            ],
            "image/png": "[encoded data removed]"
          },
          "metadata": {}
        }
      ]
    },
    {
      "cell_type": "markdown",
      "source": [
        "Explatnation:\n",
        "Based on the results, Logistic Regression outperforms the Naive Bayes model\n",
        "in terms of both accuracy (88.41% vs. 85.66%) and F1 score (0.88 vs. 0.86).\n",
        "The higher F1 score indicates that Logistic Regression provides a better balance between\n",
        "precision and recall, making it the more effective model for this classification task.**bold text**"
      ],
      "metadata": {
        "id": "z78y7ZphfNel"
      }
    },
    {
      "cell_type": "markdown",
      "source": [
        "# Question 2"
      ],
      "metadata": {
        "id": "XNGd5aVVfX27"
      }
    },
    {
      "cell_type": "code",
      "source": [
        "TfIDF_vectorize = TfidfVectorizer(stop_words='english')\n",
        "X_tfidf = TfIDF_vectorize.fit_transform(df['review'])"
      ],
      "metadata": {
        "id": "_NbFldP6OzEx"
      },
      "execution_count": null,
      "outputs": []
    },
    {
      "cell_type": "code",
      "source": [],
      "metadata": {
        "id": "v-BXXkXyfYMx"
      },
      "execution_count": null,
      "outputs": []
    },
    {
      "cell_type": "code",
      "source": [
        "X_train_tfidf, X_test_tfidf, y_train, y_test = train_test_split(X_tfidf, y, test_size=0.2, random_state=42)"
      ],
      "metadata": {
        "id": "KLOa69VhO0q1"
      },
      "execution_count": null,
      "outputs": []
    },
    {
      "cell_type": "markdown",
      "source": [
        "# Logistic Regression\n"
      ],
      "metadata": {
        "id": "o4hvDW4Qjblu"
      }
    },
    {
      "cell_type": "code",
      "source": [
        "lr_TFIDF = LGR()\n",
        "lr_TFIDF.fit(X_train_tfidf, y_train)\n",
        "lr_predictions_TFIDF = lr_TFIDF.predict(X_test_tfidf)"
      ],
      "metadata": {
        "id": "lG1faWB1O3x0"
      },
      "execution_count": null,
      "outputs": []
    },
    {
      "cell_type": "code",
      "source": [
        "lr_accuracy_TFIDF = accuracy_score(y_test, lr_predictions_TFIDF)"
      ],
      "metadata": {
        "id": "hBDmDqI3O5Nv"
      },
      "execution_count": null,
      "outputs": []
    },
    {
      "cell_type": "markdown",
      "source": [],
      "metadata": {
        "id": "mTu_3C_Gj2N3"
      }
    },
    {
      "cell_type": "code",
      "source": [
        "print(\"\\nLogistic Regression Classification Report:\")\n",
        "print(classification_report(y_test, lr_predictions_TFIDF))\n",
        "print(\"################################################\")\n",
        "print()\n",
        "print(f\"Accuracy of Logistic Regression: {lr_accuracy_TFIDF}\")"
      ],
      "metadata": {
        "colab": {
          "base_uri": "https://localhost:8080/"
        },
        "id": "IKgvNE8TO7rj",
        "outputId": "0c87b519-7dd8-4065-dbf2-0e8c70c58efc"
      },
      "execution_count": null,
      "outputs": [
        {
          "output_type": "stream",
          "name": "stdout",
          "text": [
            "\n",
            "Logistic Regression Classification Report:\n",
            "              precision    recall  f1-score   support\n",
            "\n",
            "           0       0.91      0.88      0.89      4961\n",
            "           1       0.88      0.91      0.90      5039\n",
            "\n",
            "    accuracy                           0.89     10000\n",
            "   macro avg       0.89      0.89      0.89     10000\n",
            "weighted avg       0.89      0.89      0.89     10000\n",
            "\n",
            "################################################\n",
            "\n",
            "Accuracy of Logistic Regression: 0.894\n"
          ]
        }
      ]
    },
    {
      "cell_type": "code",
      "source": [],
      "metadata": {
        "id": "Rsz3Q9hFO9lr"
      },
      "execution_count": null,
      "outputs": []
    },
    {
      "cell_type": "markdown",
      "source": [
        "# Naive Bayes"
      ],
      "metadata": {
        "id": "lOoioP5nkCW-"
      }
    },
    {
      "cell_type": "code",
      "source": [
        "nb_model_TFIDF = MultinomialNB()\n",
        "nb_model_TFIDF.fit(X_train_tfidf, y_train)\n",
        "nb_predictions_TFIDF = nb_model_TFIDF.predict(X_test_tfidf)"
      ],
      "metadata": {
        "id": "6Abie5XkO_Q-"
      },
      "execution_count": null,
      "outputs": []
    },
    {
      "cell_type": "code",
      "source": [
        "nb_accuracy_TFIDF = accuracy_score(y_test, nb_predictions_TFIDF)"
      ],
      "metadata": {
        "id": "2bjyzGBKPAtb"
      },
      "execution_count": null,
      "outputs": []
    },
    {
      "cell_type": "code",
      "source": [
        "print(\"Naive Bayes Classification Report:\\n\")\n",
        "print(classification_report(y_test, nb_predictions_TFIDF))\n",
        "print(\"################################################\")\n",
        "print()\n",
        "print(f\"Accuracy of Naive Bayes: {nb_accuracy_TFIDF}\")"
      ],
      "metadata": {
        "colab": {
          "base_uri": "https://localhost:8080/"
        },
        "id": "2FFoxpiSPCBS",
        "outputId": "443e8f4f-7871-4379-90dc-1eb28082b72e"
      },
      "execution_count": null,
      "outputs": [
        {
          "output_type": "stream",
          "name": "stdout",
          "text": [
            "Naive Bayes Classification Report:\n",
            "\n",
            "              precision    recall  f1-score   support\n",
            "\n",
            "           0       0.86      0.88      0.87      4961\n",
            "           1       0.88      0.85      0.86      5039\n",
            "\n",
            "    accuracy                           0.87     10000\n",
            "   macro avg       0.87      0.87      0.87     10000\n",
            "weighted avg       0.87      0.87      0.87     10000\n",
            "\n",
            "################################################\n",
            "\n",
            "Accuracy of Naive Bayes: 0.8654\n"
          ]
        }
      ]
    },
    {
      "cell_type": "markdown",
      "source": [
        "# Visualization"
      ],
      "metadata": {
        "id": "uAiRgr3qkb65"
      }
    },
    {
      "cell_type": "code",
      "source": [],
      "metadata": {
        "id": "1lj2hbCiPFLX"
      },
      "execution_count": null,
      "outputs": []
    },
    {
      "cell_type": "code",
      "source": [
        "models = ['Logistic Regression(TF-IDF)', 'Naive Bayes(TF-IDF)']\n",
        "accuracies = [nb_accuracy_TFIDF, nb_accuracy_TFIDF]\n",
        "\n",
        "plt.bar(models, accuracies, color=['red', 'green'])\n",
        "plt.xlabel('Models')\n",
        "plt.ylabel('Accuracy')\n",
        "plt.title('Comparison of Model Accuracies TF-IDF')\n",
        "plt.ylim(0.6, 1.0)\n",
        "plt.show()"
      ],
      "metadata": {
        "colab": {
          "base_uri": "https://localhost:8080/",
          "height": 477
        },
        "id": "EM0qWatsPHE9",
        "outputId": "7db35af6-d6c1-489d-c5cd-529617bd1e1b"
      },
      "execution_count": null,
      "outputs": [
        {
          "output_type": "display_data",
          "data": {
            "text/plain": [
              "<Figure size 640x480 with 1 Axes>"
            ],
            "image/png": "[encoded data removed]"
          },
          "metadata": {}
        }
      ]
    },
    {
      "cell_type": "markdown",
      "source": [
        "The evaluation metrics show that TF-IDF outperforms Bag-of-Words for feature representation. Logistic Regression achieved higher accuracy (89.4%) and F1 scores compared to Naive Bayes (86.54%), making it the better model overall. This demonstrates Logistic Regression's superior ability to capture the data patterns effectively."
      ],
      "metadata": {
        "id": "BBBV4x6Hllbl"
      }
    },
    {
      "cell_type": "code",
      "source": [],
      "metadata": {
        "id": "2Tci4nmmPI2g"
      },
      "execution_count": null,
      "outputs": []
    },
    {
      "cell_type": "markdown",
      "source": [],
      "metadata": {
        "id": "mwTj74SNlmBC"
      }
    },
    {
      "cell_type": "code",
      "source": [],
      "metadata": {
        "id": "ObwVpeWmfsqa"
      },
      "execution_count": null,
      "outputs": []
    },
    {
      "cell_type": "markdown",
      "source": [
        "Question3"
      ],
      "metadata": {
        "id": "Cy_x_vscf5f0"
      }
    },
    {
      "cell_type": "code",
      "source": [
        "import tensorflow as tf\n",
        "from tensorflow.keras.models import Sequential\n",
        "from tensorflow.keras.layers import Embedding, Dense, Flatten\n",
        "from tensorflow.keras.preprocessing.text import Tokenizer\n",
        "from tensorflow.keras.preprocessing.sequence import pad_sequences\n",
        "import nltk\n",
        "from nltk.tokenize import word_tokenize"
      ],
      "metadata": {
        "id": "1WErcYTdf6jn"
      },
      "execution_count": null,
      "outputs": []
    },
    {
      "cell_type": "code",
      "source": [],
      "metadata": {
        "id": "eE9nMS78hCXZ"
      },
      "execution_count": null,
      "outputs": []
    },
    {
      "cell_type": "code",
      "source": [
        "# Extracting reviews and converting labels to binary values\n",
        "reviews_text = df['review'].values\n",
        "sentiment_labels = df['sentiment'].apply(lambda sentiment: 1 if sentiment == 'positive' else 0).values\n",
        "\n",
        "# Tokenization and sequence preparation\n",
        "maximum_vocabulary_size = 10000\n",
        "maximum_sequence_length = 200\n",
        "tokenizer = Tokenizer(num_words=maximum_vocabulary_size, oov_token=\"<OOV>\")\n",
        "tokenizer.fit_on_texts(reviews_text)\n",
        "tokenized_sequences = tokenizer.texts_to_sequences(reviews_text)\n",
        "padded_review_sequences = pad_sequences(tokenized_sequences,\n",
        "                                         maxlen=maximum_sequence_length,\n",
        "                                         padding='post',\n",
        "                                         truncating='post')\n",
        "\n",
        "# Loading pre-trained GloVe embeddings\n",
        "embedding_dimensions = 100\n",
        "glove_embedding_file = \"glove.6B.100d.txt\"\n",
        "pretrained_embeddings_index = {}\n",
        "\n",
        "with open(glove_embedding_file, 'r', encoding='utf-8') as glove_file:\n",
        "    for line in glove_file:\n",
        "        values = line.split()\n",
        "        word = values[0]\n",
        "        embedding_coefficients = np.asarray(values[1:], dtype='float32')\n",
        "        pretrained_embeddings_index[word] = embedding_coefficients\n",
        "\n",
        "# Preparing embedding matrix\n",
        "word_to_index = tokenizer.word_index\n",
        "number_of_tokens = min(maximum_vocabulary_size, len(word_to_index) + 1)\n",
        "embedding_matrix = np.zeros((number_of_tokens, embedding_dimensions))\n",
        "\n",
        "for word, index in word_to_index.items():\n",
        "    if index < maximum_vocabulary_size:\n",
        "        embedding_vector = pretrained_embeddings_index.get(word)\n",
        "        if embedding_vector is not None:\n",
        "            embedding_matrix[index] = embedding_vector\n",
        "\n",
        "# Splitting data into training and testing sets\n",
        "from sklearn.model_selection import train_test_split\n",
        "X_train_data, X_test_data, y_train_labels, y_test_labels = train_test_split(\n",
        "    padded_review_sequences, sentiment_labels, test_size=0.2, random_state=42\n",
        ")\n"
      ],
      "metadata": {
        "id": "mqe9_FQJhCOC"
      },
      "execution_count": null,
      "outputs": []
    },
    {
      "cell_type": "code",
      "source": [
        "# from tensorflow.keras.models import Sequential\n",
        "# from tensorflow.keras.layers import Embedding, Dense, Flatten\n",
        "\n",
        "# Defining the Sequential Model\n",
        "sentiment_classification_model = Sequential([\n",
        "    Embedding(input_dim=number_of_tokens,\n",
        "              output_dim=embedding_dimensions,\n",
        "              weights=[embedding_matrix],\n",
        "              input_length=maximum_sequence_length,\n",
        "              trainable=False),  # Pre-trained embeddings are frozen\n",
        "    Dense(10, activation='relu'),\n",
        "    Flatten(),\n",
        "    Dense(1, activation='sigmoid')  # Binary classification output\n",
        "])\n",
        "\n",
        "# Compiling the Model\n",
        "sentiment_classification_model.compile(optimizer='adam',\n",
        "                                       loss='binary_crossentropy',\n",
        "                                       metrics=['accuracy'])\n",
        "\n",
        "# Training the Model\n",
        "batch_size = 128\n",
        "num_epochs = 50\n",
        "training_history = sentiment_classification_model.fit(\n",
        "    X_train_data, y_train_labels,\n",
        "    epochs=num_epochs,\n",
        "    batch_size=batch_size,\n",
        "    validation_data=(X_test_data, y_test_labels),\n",
        "    verbose=1\n",
        ")\n",
        "\n",
        "# Evaluating Model on Test Data\n",
        "_, test_accuracy = sentiment_classification_model.evaluate(X_test_data, y_test_labels, verbose=0)\n",
        "print(f\"Shallow RNN Test Accuracy: {test_accuracy:.2f}\")\n",
        "\n",
        "# Making Predictions and Evaluating Accuracy\n",
        "from sklearn.metrics import accuracy_score\n",
        "predicted_labels = (sentiment_classification_model.predict(X_test_data) > 0.5).astype(\"int32\")\n",
        "classification_accuracy = accuracy_score(y_test_labels, predicted_labels)\n"
      ],
      "metadata": {
        "colab": {
          "base_uri": "https://localhost:8080/"
        },
        "id": "p2bg28wnhJmc",
        "outputId": "2a0da7d4-4dfd-4fd5-9e55-0f94671375b9"
      },
      "execution_count": null,
      "outputs": [
        {
          "output_type": "stream",
          "name": "stdout",
          "text": [
            "Epoch 1/50\n",
            "\u001b[1m313/313\u001b[0m \u001b[32m━━━━━━━━━━━━━━━━━━━━\u001b[0m\u001b[37m\u001b[0m \u001b[1m7s\u001b[0m 19ms/step - accuracy: 0.5873 - loss: 0.6614 - val_accuracy: 0.7597 - val_loss: 0.5101\n",
            "Epoch 2/50\n",
            "\u001b[1m313/313\u001b[0m \u001b[32m━━━━━━━━━━━━━━━━━━━━\u001b[0m\u001b[37m\u001b[0m \u001b[1m7s\u001b[0m 22ms/step - accuracy: 0.7739 - loss: 0.4848 - val_accuracy: 0.7910 - val_loss: 0.4549\n",
            "Epoch 3/50\n",
            "\u001b[1m313/313\u001b[0m \u001b[32m━━━━━━━━━━━━━━━━━━━━\u001b[0m\u001b[37m\u001b[0m \u001b[1m9s\u001b[0m 18ms/step - accuracy: 0.8075 - loss: 0.4303 - val_accuracy: 0.8005 - val_loss: 0.4343\n",
            "Epoch 4/50\n",
            "\u001b[1m313/313\u001b[0m \u001b[32m━━━━━━━━━━━━━━━━━━━━\u001b[0m\u001b[37m\u001b[0m \u001b[1m7s\u001b[0m 21ms/step - accuracy: 0.8170 - loss: 0.4077 - val_accuracy: 0.8072 - val_loss: 0.4243\n",
            "Epoch 5/50\n",
            "\u001b[1m313/313\u001b[0m \u001b[32m━━━━━━━━━━━━━━━━━━━━\u001b[0m\u001b[37m\u001b[0m \u001b[1m10s\u001b[0m 20ms/step - accuracy: 0.8241 - loss: 0.3953 - val_accuracy: 0.8126 - val_loss: 0.4167\n",
            "Epoch 6/50\n",
            "\u001b[1m313/313\u001b[0m \u001b[32m━━━━━━━━━━━━━━━━━━━━\u001b[0m\u001b[37m\u001b[0m \u001b[1m9s\u001b[0m 16ms/step - accuracy: 0.8322 - loss: 0.3866 - val_accuracy: 0.8140 - val_loss: 0.4145\n",
            "Epoch 7/50\n",
            "\u001b[1m313/313\u001b[0m \u001b[32m━━━━━━━━━━━━━━━━━━━━\u001b[0m\u001b[37m\u001b[0m \u001b[1m7s\u001b[0m 22ms/step - accuracy: 0.8324 - loss: 0.3789 - val_accuracy: 0.8113 - val_loss: 0.4164\n",
            "Epoch 8/50\n",
            "\u001b[1m313/313\u001b[0m \u001b[32m━━━━━━━━━━━━━━━━━━━━\u001b[0m\u001b[37m\u001b[0m \u001b[1m6s\u001b[0m 18ms/step - accuracy: 0.8340 - loss: 0.3758 - val_accuracy: 0.8156 - val_loss: 0.4073\n",
            "Epoch 9/50\n",
            "\u001b[1m313/313\u001b[0m \u001b[32m━━━━━━━━━━━━━━━━━━━━\u001b[0m\u001b[37m\u001b[0m \u001b[1m13s\u001b[0m 25ms/step - accuracy: 0.8407 - loss: 0.3674 - val_accuracy: 0.8172 - val_loss: 0.4129\n",
            "Epoch 10/50\n",
            "\u001b[1m313/313\u001b[0m \u001b[32m━━━━━━━━━━━━━━━━━━━━\u001b[0m\u001b[37m\u001b[0m \u001b[1m5s\u001b[0m 16ms/step - accuracy: 0.8443 - loss: 0.3592 - val_accuracy: 0.8146 - val_loss: 0.4120\n",
            "Epoch 11/50\n",
            "\u001b[1m313/313\u001b[0m \u001b[32m━━━━━━━━━━━━━━━━━━━━\u001b[0m\u001b[37m\u001b[0m \u001b[1m6s\u001b[0m 18ms/step - accuracy: 0.8472 - loss: 0.3562 - val_accuracy: 0.8185 - val_loss: 0.4056\n",
            "Epoch 12/50\n",
            "\u001b[1m313/313\u001b[0m \u001b[32m━━━━━━━━━━━━━━━━━━━━\u001b[0m\u001b[37m\u001b[0m \u001b[1m7s\u001b[0m 21ms/step - accuracy: 0.8460 - loss: 0.3535 - val_accuracy: 0.8151 - val_loss: 0.4141\n",
            "Epoch 13/50\n",
            "\u001b[1m313/313\u001b[0m \u001b[32m━━━━━━━━━━━━━━━━━━━━\u001b[0m\u001b[37m\u001b[0m \u001b[1m5s\u001b[0m 16ms/step - accuracy: 0.8454 - loss: 0.3563 - val_accuracy: 0.8190 - val_loss: 0.4053\n",
            "Epoch 14/50\n",
            "\u001b[1m313/313\u001b[0m \u001b[32m━━━━━━━━━━━━━━━━━━━━\u001b[0m\u001b[37m\u001b[0m \u001b[1m7s\u001b[0m 22ms/step - accuracy: 0.8500 - loss: 0.3534 - val_accuracy: 0.8206 - val_loss: 0.4024\n",
            "Epoch 15/50\n",
            "\u001b[1m313/313\u001b[0m \u001b[32m━━━━━━━━━━━━━━━━━━━━\u001b[0m\u001b[37m\u001b[0m \u001b[1m5s\u001b[0m 17ms/step - accuracy: 0.8507 - loss: 0.3501 - val_accuracy: 0.8187 - val_loss: 0.4118\n",
            "Epoch 16/50\n",
            "\u001b[1m313/313\u001b[0m \u001b[32m━━━━━━━━━━━━━━━━━━━━\u001b[0m\u001b[37m\u001b[0m \u001b[1m5s\u001b[0m 16ms/step - accuracy: 0.8489 - loss: 0.3484 - val_accuracy: 0.8190 - val_loss: 0.4116\n",
            "Epoch 17/50\n",
            "\u001b[1m313/313\u001b[0m \u001b[32m━━━━━━━━━━━━━━━━━━━━\u001b[0m\u001b[37m\u001b[0m \u001b[1m10s\u001b[0m 16ms/step - accuracy: 0.8505 - loss: 0.3452 - val_accuracy: 0.8212 - val_loss: 0.4021\n",
            "Epoch 18/50\n",
            "\u001b[1m313/313\u001b[0m \u001b[32m━━━━━━━━━━━━━━━━━━━━\u001b[0m\u001b[37m\u001b[0m \u001b[1m6s\u001b[0m 19ms/step - accuracy: 0.8565 - loss: 0.3367 - val_accuracy: 0.8207 - val_loss: 0.4023\n",
            "Epoch 19/50\n",
            "\u001b[1m313/313\u001b[0m \u001b[32m━━━━━━━━━━━━━━━━━━━━\u001b[0m\u001b[37m\u001b[0m \u001b[1m9s\u001b[0m 16ms/step - accuracy: 0.8507 - loss: 0.3429 - val_accuracy: 0.8201 - val_loss: 0.4057\n",
            "Epoch 20/50\n",
            "\u001b[1m313/313\u001b[0m \u001b[32m━━━━━━━━━━━━━━━━━━━━\u001b[0m\u001b[37m\u001b[0m \u001b[1m7s\u001b[0m 22ms/step - accuracy: 0.8524 - loss: 0.3431 - val_accuracy: 0.8196 - val_loss: 0.4069\n",
            "Epoch 21/50\n",
            "\u001b[1m313/313\u001b[0m \u001b[32m━━━━━━━━━━━━━━━━━━━━\u001b[0m\u001b[37m\u001b[0m \u001b[1m8s\u001b[0m 16ms/step - accuracy: 0.8559 - loss: 0.3358 - val_accuracy: 0.8192 - val_loss: 0.4120\n",
            "Epoch 22/50\n",
            "\u001b[1m313/313\u001b[0m \u001b[32m━━━━━━━━━━━━━━━━━━━━\u001b[0m\u001b[37m\u001b[0m \u001b[1m7s\u001b[0m 22ms/step - accuracy: 0.8556 - loss: 0.3367 - val_accuracy: 0.8232 - val_loss: 0.4023\n",
            "Epoch 23/50\n",
            "\u001b[1m313/313\u001b[0m \u001b[32m━━━━━━━━━━━━━━━━━━━━\u001b[0m\u001b[37m\u001b[0m \u001b[1m6s\u001b[0m 17ms/step - accuracy: 0.8591 - loss: 0.3303 - val_accuracy: 0.8215 - val_loss: 0.4033\n",
            "Epoch 24/50\n",
            "\u001b[1m313/313\u001b[0m \u001b[32m━━━━━━━━━━━━━━━━━━━━\u001b[0m\u001b[37m\u001b[0m \u001b[1m5s\u001b[0m 16ms/step - accuracy: 0.8587 - loss: 0.3297 - val_accuracy: 0.8205 - val_loss: 0.4117\n",
            "Epoch 25/50\n",
            "\u001b[1m313/313\u001b[0m \u001b[32m━━━━━━━━━━━━━━━━━━━━\u001b[0m\u001b[37m\u001b[0m \u001b[1m7s\u001b[0m 23ms/step - accuracy: 0.8602 - loss: 0.3281 - val_accuracy: 0.8225 - val_loss: 0.4040\n",
            "Epoch 26/50\n",
            "\u001b[1m313/313\u001b[0m \u001b[32m━━━━━━━━━━━━━━━━━━━━\u001b[0m\u001b[37m\u001b[0m \u001b[1m5s\u001b[0m 16ms/step - accuracy: 0.8616 - loss: 0.3258 - val_accuracy: 0.8222 - val_loss: 0.4058\n",
            "Epoch 27/50\n",
            "\u001b[1m313/313\u001b[0m \u001b[32m━━━━━━━━━━━━━━━━━━━━\u001b[0m\u001b[37m\u001b[0m \u001b[1m6s\u001b[0m 18ms/step - accuracy: 0.8622 - loss: 0.3216 - val_accuracy: 0.8240 - val_loss: 0.4043\n",
            "Epoch 28/50\n",
            "\u001b[1m313/313\u001b[0m \u001b[32m━━━━━━━━━━━━━━━━━━━━\u001b[0m\u001b[37m\u001b[0m \u001b[1m7s\u001b[0m 22ms/step - accuracy: 0.8616 - loss: 0.3230 - val_accuracy: 0.8238 - val_loss: 0.4014\n",
            "Epoch 29/50\n",
            "\u001b[1m313/313\u001b[0m \u001b[32m━━━━━━━━━━━━━━━━━━━━\u001b[0m\u001b[37m\u001b[0m \u001b[1m5s\u001b[0m 16ms/step - accuracy: 0.8624 - loss: 0.3209 - val_accuracy: 0.8222 - val_loss: 0.4029\n",
            "Epoch 30/50\n",
            "\u001b[1m313/313\u001b[0m \u001b[32m━━━━━━━━━━━━━━━━━━━━\u001b[0m\u001b[37m\u001b[0m \u001b[1m7s\u001b[0m 22ms/step - accuracy: 0.8624 - loss: 0.3237 - val_accuracy: 0.8234 - val_loss: 0.4058\n",
            "Epoch 31/50\n",
            "\u001b[1m313/313\u001b[0m \u001b[32m━━━━━━━━━━━━━━━━━━━━\u001b[0m\u001b[37m\u001b[0m \u001b[1m6s\u001b[0m 18ms/step - accuracy: 0.8588 - loss: 0.3294 - val_accuracy: 0.8226 - val_loss: 0.4095\n",
            "Epoch 32/50\n",
            "\u001b[1m313/313\u001b[0m \u001b[32m━━━━━━━━━━━━━━━━━━━━\u001b[0m\u001b[37m\u001b[0m \u001b[1m5s\u001b[0m 16ms/step - accuracy: 0.8647 - loss: 0.3191 - val_accuracy: 0.8181 - val_loss: 0.4188\n",
            "Epoch 33/50\n",
            "\u001b[1m313/313\u001b[0m \u001b[32m━━━━━━━━━━━━━━━━━━━━\u001b[0m\u001b[37m\u001b[0m \u001b[1m10s\u001b[0m 16ms/step - accuracy: 0.8592 - loss: 0.3271 - val_accuracy: 0.8238 - val_loss: 0.4038\n",
            "Epoch 34/50\n",
            "\u001b[1m313/313\u001b[0m \u001b[32m━━━━━━━━━━━━━━━━━━━━\u001b[0m\u001b[37m\u001b[0m \u001b[1m6s\u001b[0m 20ms/step - accuracy: 0.8627 - loss: 0.3199 - val_accuracy: 0.8250 - val_loss: 0.4052\n",
            "Epoch 35/50\n",
            "\u001b[1m313/313\u001b[0m \u001b[32m━━━━━━━━━━━━━━━━━━━━\u001b[0m\u001b[37m\u001b[0m \u001b[1m9s\u001b[0m 16ms/step - accuracy: 0.8655 - loss: 0.3145 - val_accuracy: 0.8245 - val_loss: 0.4064\n",
            "Epoch 36/50\n",
            "\u001b[1m313/313\u001b[0m \u001b[32m━━━━━━━━━━━━━━━━━━━━\u001b[0m\u001b[37m\u001b[0m \u001b[1m11s\u001b[0m 18ms/step - accuracy: 0.8651 - loss: 0.3178 - val_accuracy: 0.8236 - val_loss: 0.4070\n",
            "Epoch 37/50\n",
            "\u001b[1m313/313\u001b[0m \u001b[32m━━━━━━━━━━━━━━━━━━━━\u001b[0m\u001b[37m\u001b[0m \u001b[1m12s\u001b[0m 25ms/step - accuracy: 0.8643 - loss: 0.3156 - val_accuracy: 0.8256 - val_loss: 0.4056\n",
            "Epoch 38/50\n",
            "\u001b[1m313/313\u001b[0m \u001b[32m━━━━━━━━━━━━━━━━━━━━\u001b[0m\u001b[37m\u001b[0m \u001b[1m5s\u001b[0m 16ms/step - accuracy: 0.8639 - loss: 0.3193 - val_accuracy: 0.8257 - val_loss: 0.4074\n",
            "Epoch 39/50\n",
            "\u001b[1m313/313\u001b[0m \u001b[32m━━━━━━━━━━━━━━━━━━━━\u001b[0m\u001b[37m\u001b[0m \u001b[1m12s\u001b[0m 22ms/step - accuracy: 0.8663 - loss: 0.3119 - val_accuracy: 0.8261 - val_loss: 0.4056\n",
            "Epoch 40/50\n",
            "\u001b[1m313/313\u001b[0m \u001b[32m━━━━━━━━━━━━━━━━━━━━\u001b[0m\u001b[37m\u001b[0m \u001b[1m5s\u001b[0m 16ms/step - accuracy: 0.8658 - loss: 0.3127 - val_accuracy: 0.8220 - val_loss: 0.4106\n",
            "Epoch 41/50\n",
            "\u001b[1m313/313\u001b[0m \u001b[32m━━━━━━━━━━━━━━━━━━━━\u001b[0m\u001b[37m\u001b[0m \u001b[1m7s\u001b[0m 22ms/step - accuracy: 0.8658 - loss: 0.3133 - val_accuracy: 0.8263 - val_loss: 0.4066\n",
            "Epoch 42/50\n",
            "\u001b[1m313/313\u001b[0m \u001b[32m━━━━━━━━━━━━━━━━━━━━\u001b[0m\u001b[37m\u001b[0m \u001b[1m8s\u001b[0m 16ms/step - accuracy: 0.8652 - loss: 0.3149 - val_accuracy: 0.8241 - val_loss: 0.4080\n",
            "Epoch 43/50\n",
            "\u001b[1m313/313\u001b[0m \u001b[32m━━━━━━━━━━━━━━━━━━━━\u001b[0m\u001b[37m\u001b[0m \u001b[1m7s\u001b[0m 22ms/step - accuracy: 0.8665 - loss: 0.3174 - val_accuracy: 0.8245 - val_loss: 0.4091\n",
            "Epoch 44/50\n",
            "\u001b[1m313/313\u001b[0m \u001b[32m━━━━━━━━━━━━━━━━━━━━\u001b[0m\u001b[37m\u001b[0m \u001b[1m6s\u001b[0m 18ms/step - accuracy: 0.8673 - loss: 0.3091 - val_accuracy: 0.8228 - val_loss: 0.4098\n",
            "Epoch 45/50\n",
            "\u001b[1m313/313\u001b[0m \u001b[32m━━━━━━━━━━━━━━━━━━━━\u001b[0m\u001b[37m\u001b[0m \u001b[1m5s\u001b[0m 16ms/step - accuracy: 0.8658 - loss: 0.3101 - val_accuracy: 0.8253 - val_loss: 0.4059\n",
            "Epoch 46/50\n",
            "\u001b[1m313/313\u001b[0m \u001b[32m━━━━━━━━━━━━━━━━━━━━\u001b[0m\u001b[37m\u001b[0m \u001b[1m8s\u001b[0m 26ms/step - accuracy: 0.8699 - loss: 0.3096 - val_accuracy: 0.8252 - val_loss: 0.4066\n",
            "Epoch 47/50\n",
            "\u001b[1m313/313\u001b[0m \u001b[32m━━━━━━━━━━━━━━━━━━━━\u001b[0m\u001b[37m\u001b[0m \u001b[1m7s\u001b[0m 16ms/step - accuracy: 0.8695 - loss: 0.3086 - val_accuracy: 0.8235 - val_loss: 0.4092\n",
            "Epoch 48/50\n",
            "\u001b[1m313/313\u001b[0m \u001b[32m━━━━━━━━━━━━━━━━━━━━\u001b[0m\u001b[37m\u001b[0m \u001b[1m7s\u001b[0m 24ms/step - accuracy: 0.8676 - loss: 0.3101 - val_accuracy: 0.8238 - val_loss: 0.4057\n",
            "Epoch 49/50\n",
            "\u001b[1m313/313\u001b[0m \u001b[32m━━━━━━━━━━━━━━━━━━━━\u001b[0m\u001b[37m\u001b[0m \u001b[1m8s\u001b[0m 16ms/step - accuracy: 0.8689 - loss: 0.3073 - val_accuracy: 0.8261 - val_loss: 0.4080\n",
            "Epoch 50/50\n",
            "\u001b[1m313/313\u001b[0m \u001b[32m━━━━━━━━━━━━━━━━━━━━\u001b[0m\u001b[37m\u001b[0m \u001b[1m10s\u001b[0m 17ms/step - accuracy: 0.8684 - loss: 0.3085 - val_accuracy: 0.8224 - val_loss: 0.4076\n",
            "Shallow RNN Test Accuracy: 0.82\n",
            "\u001b[1m313/313\u001b[0m \u001b[32m━━━━━━━━━━━━━━━━━━━━\u001b[0m\u001b[37m\u001b[0m \u001b[1m1s\u001b[0m 3ms/step\n"
          ]
        }
      ]
    },
    {
      "cell_type": "code",
      "source": [
        "import matplotlib.pyplot as plt\n",
        "\n",
        "plt.style.use('ggplot')\n",
        "\n",
        "def plot_training_history(training_history):\n",
        "    training_accuracy = training_history.history['accuracy']\n",
        "    validation_accuracy = training_history.history['val_accuracy']\n",
        "    training_loss = training_history.history['loss']\n",
        "    validation_loss = training_history.history['val_loss']\n",
        "    epochs_range = range(1, len(training_accuracy) + 1)\n",
        "\n",
        "    plt.figure(figsize=(12, 5))\n",
        "    plt.subplot(1, 2, 1)\n",
        "    plt.plot(epochs_range, training_accuracy, 'b', label='Training Accuracy')\n",
        "    plt.plot(epochs_range, validation_accuracy, 'r', label='Validation Accuracy')\n",
        "    plt.title('Training and Validation Accuracy')\n",
        "    plt.legend()\n",
        "\n",
        "    plt.subplot(1, 2, 2)\n",
        "    plt.plot(epochs_range, training_loss, 'b', label='Training Loss')\n",
        "    plt.plot(epochs_range, validation_loss, 'r', label='Validation Loss')\n",
        "    plt.title('Training and Validation Loss')\n",
        "    plt.legend()\n",
        "\n",
        "# Plotting the Training and Validation Metrics\n",
        "plot_training_history(training_history)\n"
      ],
      "metadata": {
        "colab": {
          "base_uri": "https://localhost:8080/",
          "height": 469
        },
        "id": "0pmctbeKhOyN",
        "outputId": "26b3d3ff-289f-4b2f-d2cc-73cecb397a49"
      },
      "execution_count": null,
      "outputs": [
        {
          "output_type": "display_data",
          "data": {
            "text/plain": [
              "<Figure size 1200x500 with 2 Axes>"
            ],
            "image/png": "[encoded data removed]"
          },
          "metadata": {}
        }
      ]
    },
    {
      "cell_type": "code",
      "source": [
        "# Displaying the Model Summary\n",
        "sentiment_classification_model.summary()\n",
        "\n",
        "# Evaluating Training and Testing Accuracy\n",
        "training_loss, training_accuracy = sentiment_classification_model.evaluate(X_train_data, y_train_labels, verbose=False)\n",
        "print(\"Training Accuracy: {:.4f}\".format(training_accuracy))\n",
        "\n",
        "testing_loss, testing_accuracy = sentiment_classification_model.evaluate(X_test_data, y_test_labels, verbose=False)\n",
        "print(\"Testing Accuracy:  {:.4f}\".format(testing_accuracy))\n"
      ],
      "metadata": {
        "colab": {
          "base_uri": "https://localhost:8080/",
          "height": 317
        },
        "id": "sEn7sVjRizEL",
        "outputId": "6e05a741-7213-4aa4-ee8a-0b30fde4419f"
      },
      "execution_count": null,
      "outputs": [
        {
          "output_type": "display_data",
          "data": {
            "text/plain": [
              "\u001b[1mModel: \"sequential\"\u001b[0m\n"
            ],
            "text/html": [
              "<pre style=\"white-space:pre;overflow-x:auto;line-height:normal;font-family:Menlo,'DejaVu Sans Mono',consolas,'Courier New',monospace\"><span style=\"font-weight: bold\">Model: \"sequential\"</span>\n",
              "</pre>\n"
            ]
          },
          "metadata": {}
        },
        {
          "output_type": "display_data",
          "data": {
            "text/plain": [
              "┏━━━━━━━━━━━━━━━━━━━━━━━━━━━━━━━━━━━━━━┳━━━━━━━━━━━━━━━━━━━━━━━━━━━━━┳━━━━━━━━━━━━━━━━━┓\n",
              "┃\u001b[1m \u001b[0m\u001b[1mLayer (type)                        \u001b[0m\u001b[1m \u001b[0m┃\u001b[1m \u001b[0m\u001b[1mOutput Shape               \u001b[0m\u001b[1m \u001b[0m┃\u001b[1m \u001b[0m\u001b[1m        Param #\u001b[0m\u001b[1m \u001b[0m┃\n",
              "┡━━━━━━━━━━━━━━━━━━━━━━━━━━━━━━━━━━━━━━╇━━━━━━━━━━━━━━━━━━━━━━━━━━━━━╇━━━━━━━━━━━━━━━━━┩\n",
              "│ embedding (\u001b[38;5;33mEmbedding\u001b[0m)                │ (\u001b[38;5;45mNone\u001b[0m, \u001b[38;5;34m200\u001b[0m, \u001b[38;5;34m100\u001b[0m)            │       \u001b[38;5;34m1,000,000\u001b[0m │\n",
              "├──────────────────────────────────────┼─────────────────────────────┼─────────────────┤\n",
              "│ dense (\u001b[38;5;33mDense\u001b[0m)                        │ (\u001b[38;5;45mNone\u001b[0m, \u001b[38;5;34m200\u001b[0m, \u001b[38;5;34m10\u001b[0m)             │           \u001b[38;5;34m1,010\u001b[0m │\n",
              "├──────────────────────────────────────┼─────────────────────────────┼─────────────────┤\n",
              "│ flatten (\u001b[38;5;33mFlatten\u001b[0m)                    │ (\u001b[38;5;45mNone\u001b[0m, \u001b[38;5;34m2000\u001b[0m)                │               \u001b[38;5;34m0\u001b[0m │\n",
              "├──────────────────────────────────────┼─────────────────────────────┼─────────────────┤\n",
              "│ dense_1 (\u001b[38;5;33mDense\u001b[0m)                      │ (\u001b[38;5;45mNone\u001b[0m, \u001b[38;5;34m1\u001b[0m)                   │           \u001b[38;5;34m2,001\u001b[0m │\n",
              "└──────────────────────────────────────┴─────────────────────────────┴─────────────────┘\n"
            ],
            "text/html": [
              "<pre style=\"white-space:pre;overflow-x:auto;line-height:normal;font-family:Menlo,'DejaVu Sans Mono',consolas,'Courier New',monospace\">┏━━━━━━━━━━━━━━━━━━━━━━━━━━━━━━━━━━━━━━┳━━━━━━━━━━━━━━━━━━━━━━━━━━━━━┳━━━━━━━━━━━━━━━━━┓\n",
              "┃<span style=\"font-weight: bold\"> Layer (type)                         </span>┃<span style=\"font-weight: bold\"> Output Shape                </span>┃<span style=\"font-weight: bold\">         Param # </span>┃\n",
              "┡━━━━━━━━━━━━━━━━━━━━━━━━━━━━━━━━━━━━━━╇━━━━━━━━━━━━━━━━━━━━━━━━━━━━━╇━━━━━━━━━━━━━━━━━┩\n",
              "│ embedding (<span style=\"color: #0087ff; text-decoration-color: #0087ff\">Embedding</span>)                │ (<span style=\"color: #00d7ff; text-decoration-color: #00d7ff\">None</span>, <span style=\"color: #00af00; text-decoration-color: #00af00\">200</span>, <span style=\"color: #00af00; text-decoration-color: #00af00\">100</span>)            │       <span style=\"color: #00af00; text-decoration-color: #00af00\">1,000,000</span> │\n",
              "├──────────────────────────────────────┼─────────────────────────────┼─────────────────┤\n",
              "│ dense (<span style=\"color: #0087ff; text-decoration-color: #0087ff\">Dense</span>)                        │ (<span style=\"color: #00d7ff; text-decoration-color: #00d7ff\">None</span>, <span style=\"color: #00af00; text-decoration-color: #00af00\">200</span>, <span style=\"color: #00af00; text-decoration-color: #00af00\">10</span>)             │           <span style=\"color: #00af00; text-decoration-color: #00af00\">1,010</span> │\n",
              "├──────────────────────────────────────┼─────────────────────────────┼─────────────────┤\n",
              "│ flatten (<span style=\"color: #0087ff; text-decoration-color: #0087ff\">Flatten</span>)                    │ (<span style=\"color: #00d7ff; text-decoration-color: #00d7ff\">None</span>, <span style=\"color: #00af00; text-decoration-color: #00af00\">2000</span>)                │               <span style=\"color: #00af00; text-decoration-color: #00af00\">0</span> │\n",
              "├──────────────────────────────────────┼─────────────────────────────┼─────────────────┤\n",
              "│ dense_1 (<span style=\"color: #0087ff; text-decoration-color: #0087ff\">Dense</span>)                      │ (<span style=\"color: #00d7ff; text-decoration-color: #00d7ff\">None</span>, <span style=\"color: #00af00; text-decoration-color: #00af00\">1</span>)                   │           <span style=\"color: #00af00; text-decoration-color: #00af00\">2,001</span> │\n",
              "└──────────────────────────────────────┴─────────────────────────────┴─────────────────┘\n",
              "</pre>\n"
            ]
          },
          "metadata": {}
        },
        {
          "output_type": "display_data",
          "data": {
            "text/plain": [
              "\u001b[1m Total params: \u001b[0m\u001b[38;5;34m1,009,035\u001b[0m (3.85 MB)\n"
            ],
            "text/html": [
              "<pre style=\"white-space:pre;overflow-x:auto;line-height:normal;font-family:Menlo,'DejaVu Sans Mono',consolas,'Courier New',monospace\"><span style=\"font-weight: bold\"> Total params: </span><span style=\"color: #00af00; text-decoration-color: #00af00\">1,009,035</span> (3.85 MB)\n",
              "</pre>\n"
            ]
          },
          "metadata": {}
        },
        {
          "output_type": "display_data",
          "data": {
            "text/plain": [
              "\u001b[1m Trainable params: \u001b[0m\u001b[38;5;34m3,011\u001b[0m (11.76 KB)\n"
            ],
            "text/html": [
              "<pre style=\"white-space:pre;overflow-x:auto;line-height:normal;font-family:Menlo,'DejaVu Sans Mono',consolas,'Courier New',monospace\"><span style=\"font-weight: bold\"> Trainable params: </span><span style=\"color: #00af00; text-decoration-color: #00af00\">3,011</span> (11.76 KB)\n",
              "</pre>\n"
            ]
          },
          "metadata": {}
        },
        {
          "output_type": "display_data",
          "data": {
            "text/plain": [
              "\u001b[1m Non-trainable params: \u001b[0m\u001b[38;5;34m1,000,000\u001b[0m (3.81 MB)\n"
            ],
            "text/html": [
              "<pre style=\"white-space:pre;overflow-x:auto;line-height:normal;font-family:Menlo,'DejaVu Sans Mono',consolas,'Courier New',monospace\"><span style=\"font-weight: bold\"> Non-trainable params: </span><span style=\"color: #00af00; text-decoration-color: #00af00\">1,000,000</span> (3.81 MB)\n",
              "</pre>\n"
            ]
          },
          "metadata": {}
        },
        {
          "output_type": "display_data",
          "data": {
            "text/plain": [
              "\u001b[1m Optimizer params: \u001b[0m\u001b[38;5;34m6,024\u001b[0m (23.54 KB)\n"
            ],
            "text/html": [
              "<pre style=\"white-space:pre;overflow-x:auto;line-height:normal;font-family:Menlo,'DejaVu Sans Mono',consolas,'Courier New',monospace\"><span style=\"font-weight: bold\"> Optimizer params: </span><span style=\"color: #00af00; text-decoration-color: #00af00\">6,024</span> (23.54 KB)\n",
              "</pre>\n"
            ]
          },
          "metadata": {}
        },
        {
          "output_type": "stream",
          "name": "stdout",
          "text": [
            "Training Accuracy: 0.8723\n",
            "Testing Accuracy:  0.8224\n"
          ]
        }
      ]
    },
    {
      "cell_type": "markdown",
      "source": [
        "\n",
        "Explanation: The model consists of an embedding layer with pre-trained GloVe embeddings (1,000,000 non-trainable parameters) followed by two dense layers for classification. It achieved a training accuracy of 87.23% and a testing accuracy of 82.24%. This indicates good generalization but leaves room for improvement in test performance."
      ],
      "metadata": {
        "id": "g1jj7iJajL_f"
      }
    }
  ]
}